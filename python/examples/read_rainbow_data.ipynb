{
 "cells": [
  {
   "cell_type": "markdown",
   "metadata": {},
   "source": [
    "# Reading Rainbow ASI raw image data\n",
    "\n",
    "Below we'll retrieve Rainbow ASI data (also known at GO-Canada AGO or CGSM Rainbow), read it, and do a bit of processing. An internet connection is required since we'll need to download data."
   ]
  },
  {
   "cell_type": "markdown",
   "metadata": {},
   "source": [
    "## Retrieve a minute of data"
   ]
  },
  {
   "cell_type": "code",
   "execution_count": 1,
   "metadata": {},
   "outputs": [],
   "source": [
    "import requests"
   ]
  },
  {
   "cell_type": "code",
   "execution_count": 2,
   "metadata": {},
   "outputs": [],
   "source": [
    "# 2015-01-15 07:30 UTC in Fort Smith, NWT, was a particularly good night\n",
    "url = \"https://data.phys.ucalgary.ca/sort_by_project/GO-Canada/AGO/stream0/2015/01/15/fsmi_rainbow-11/ut07/20150115_0730_fsmi_rainbow-11_full.pgm.gz\"\n",
    "r = requests.get(url)"
   ]
  },
  {
   "cell_type": "code",
   "execution_count": 3,
   "metadata": {},
   "outputs": [],
   "source": [
    "# save data to a local file\n",
    "filename = \"20150115_0730_fsmi_rainbow-11_full.pgm.gz\"\n",
    "with open(filename, 'wb') as f:\n",
    "    f.write(r.content)"
   ]
  },
  {
   "cell_type": "markdown",
   "metadata": {},
   "source": [
    "## Read the data file"
   ]
  },
  {
   "cell_type": "code",
   "execution_count": 4,
   "metadata": {},
   "outputs": [],
   "source": [
    "import rainbow_imager_readfile"
   ]
  },
  {
   "cell_type": "code",
   "execution_count": 5,
   "metadata": {},
   "outputs": [],
   "source": [
    "img, meta, problematic_files = rainbow_imager_readfile.read(filename)"
   ]
  },
  {
   "cell_type": "code",
   "execution_count": 7,
   "metadata": {},
   "outputs": [
    {
     "name": "stdout",
     "output_type": "stream",
     "text": [
      "Image dimensions: 512 x 256\n",
      "Number of images: 10\n"
     ]
    }
   ],
   "source": [
    "# the imager takes a picture every 6 seconds, so a 1-minute file usually contains 10 images\n",
    "print(\"Image dimensions: %d x %d\" % (img.shape[0], img.shape[1]))\n",
    "print(\"Number of images: %d\" % (img.shape[2]))"
   ]
  },
  {
   "cell_type": "code",
   "execution_count": 8,
   "metadata": {},
   "outputs": [
    {
     "data": {
      "text/plain": [
       "array([[1118, 1110, 1124, ..., 1701, 2180, 1705],\n",
       "       [2287, 1730, 2196, ..., 1099, 1123, 1093],\n",
       "       [1113, 1106, 1110, ..., 1871, 2066, 1873],\n",
       "       ...,\n",
       "       [2038, 1580, 2061, ..., 1090, 1070, 1052],\n",
       "       [1086, 1085, 1094, ..., 1760, 1840, 1856],\n",
       "       [1886, 1831, 1840, ..., 1102, 1086, 1092]], dtype=uint16)"
      ]
     },
     "execution_count": 8,
     "metadata": {},
     "output_type": "execute_result"
    }
   ],
   "source": [
    "# data for the first image\n",
    "img[:,:,0]"
   ]
  },
  {
   "cell_type": "code",
   "execution_count": 9,
   "metadata": {},
   "outputs": [
    {
     "data": {
      "text/plain": [
       "{'Imager unique ID': 'rainbow-11',\n",
       " 'Site unique ID': 'fsmi',\n",
       " 'Imager information revised': '2009-12-01',\n",
       " 'Imager model': 'starlight Xpress SXVF-M7C',\n",
       " 'Imager comment': \"Brian jackel's Rainbow Camera. FSMI.\",\n",
       " 'Ccd type': 'Sony ICX429AKL',\n",
       " 'Ccd xsize': '752 pixels',\n",
       " 'Ccd ysize': '290 pixels',\n",
       " 'Ccd background': '0',\n",
       " 'Pixel depth': '16 bits',\n",
       " 'Pixel aspect ratio': '0.5122',\n",
       " 'Optical type': 'THEMIS all-sky',\n",
       " 'Optical projection': 'a1=1.5,a3=0.0,b2=0.0,b4=0.0',\n",
       " 'Optical center': 'x0=391,y0=150',\n",
       " 'Ntp device': 'cgsm-iti',\n",
       " 'Expose PGM': '/usr/local/bin/imager_expose_pgm',\n",
       " 'Computer name': 'fsmi_rainbow-11 i686',\n",
       " 'Operating system': 'Linux 2.6.27.5-117.fc10.i686 #1 SMP Tue Nov 18 12:19:59 EST 2008',\n",
       " 'Project unique ID': 'norstar',\n",
       " 'Site name': 'Fort Smith, NWT',\n",
       " 'Geodetic latitude': '59.9844',\n",
       " 'Geodetic Longitude': '-111.8415',\n",
       " 'Geodetic altitude': '0.0',\n",
       " 'Mode unique ID': 'full',\n",
       " 'Mode sequence number': '581586',\n",
       " 'NTP Delay': '-0.001019',\n",
       " 'NTP Offset': '0.000753',\n",
       " 'NTP Jitter': '0.008099',\n",
       " 'CCD device': '/dev/ccdA',\n",
       " 'Exposure options': 'WIDTH=512 HEIGHT=256 XBIN=1 YBIN=1 XOFFSET=135 YOFFSET=22 MSEC=5000',\n",
       " 'Image request start': '2015-01-15 07:30:00.015223 UTC',\n",
       " 'Image readout start': '2015-01-15 07:30:05.041562 UTC',\n",
       " 'Exposure plus initial readout': '5026.34 ms'}"
      ]
     },
     "execution_count": 9,
     "metadata": {},
     "output_type": "execute_result"
    }
   ],
   "source": [
    "# metadata for first image\n",
    "meta[0]"
   ]
  },
  {
   "cell_type": "markdown",
   "metadata": {},
   "source": [
    "## Visualize the image"
   ]
  },
  {
   "cell_type": "code",
   "execution_count": 12,
   "metadata": {},
   "outputs": [],
   "source": [
    "%matplotlib inline\n",
    "from matplotlib import pyplot as plt"
   ]
  },
  {
   "cell_type": "code",
   "execution_count": 13,
   "metadata": {},
   "outputs": [
    {
     "data": {
      "image/png": "[encoded data removed]",
      "text/plain": [
       "<Figure size 432x288 with 1 Axes>"
      ]
     },
     "metadata": {
      "needs_background": "light"
     },
     "output_type": "display_data"
    }
   ],
   "source": [
    "plt.imshow(img[:,:,0], cmap=\"gray\")\n",
    "plt.axis(\"off\")\n",
    "plt.show() "
   ]
  },
  {
   "cell_type": "markdown",
   "metadata": {},
   "source": [
    "# Let's scale the image so it's a bit brighter"
   ]
  },
  {
   "cell_type": "code",
   "execution_count": 14,
   "metadata": {},
   "outputs": [],
   "source": [
    "# Pulled from SciPy. This function was depreated in \n",
    "# scipy v1.2.0, but it's quite useful for us.\n",
    "import numpy as np\n",
    "def bytescale(data, cmin=None, cmax=None, high=65535, low=0):\n",
    "    if high > 65535:\n",
    "        raise ValueError(\"`high` should be less than or equal to 65535.\")\n",
    "    if low < 0:\n",
    "        raise ValueError(\"`low` should be greater than or equal to 0.\")\n",
    "    if high < low:\n",
    "        raise ValueError(\"`high` should be greater than or equal to `low`.\")\n",
    "\n",
    "    if cmin is None:\n",
    "        cmin = data.min()\n",
    "    if cmax is None:\n",
    "        cmax = data.max()\n",
    "\n",
    "    cscale = cmax - cmin\n",
    "    if cscale < 0:\n",
    "        raise ValueError(\"`cmax` should be larger than `cmin`.\")\n",
    "    elif cscale == 0:\n",
    "        cscale = 1\n",
    "\n",
    "    scale = float(high - low) / cscale\n",
    "    bytedata = (data - cmin) * scale + low\n",
    "    return (bytedata.clip(low, high) + 0.5).astype(np.uint16)"
   ]
  },
  {
   "cell_type": "code",
   "execution_count": 15,
   "metadata": {},
   "outputs": [
    {
     "data": {
      "image/png": "[encoded data removed]",
      "text/plain": [
       "<Figure size 432x288 with 1 Axes>"
      ]
     },
     "metadata": {
      "needs_background": "light"
     },
     "output_type": "display_data"
    }
   ],
   "source": [
    "# scale the image with 3000 as the floor and 14000 as the ceiling, then display\n",
    "im_scaled = bytescale(img[:,:,0], cmin=3000, cmax=14000)\n",
    "plt.imshow(im_scaled, cmap=\"gray\")\n",
    "plt.axis(\"off\")\n",
    "plt.show() "
   ]
  },
  {
   "cell_type": "markdown",
   "metadata": {},
   "source": [
    "## Cleanup downloaded file"
   ]
  },
  {
   "cell_type": "code",
   "execution_count": 19,
   "metadata": {},
   "outputs": [],
   "source": [
    "# remove the downloaded files\n",
    "import os\n",
    "os.remove(filename)"
   ]
  }
 ],
 "metadata": {
  "kernelspec": {
   "display_name": "Python 3",
   "language": "python",
   "name": "python3"
  },
  "language_info": {
   "codemirror_mode": {
    "name": "ipython",
    "version": 3
   },
   "file_extension": ".py",
   "mimetype": "text/x-python",
   "name": "python",
   "nbconvert_exporter": "python",
   "pygments_lexer": "ipython3",
   "version": "3.7.3"
  }
 },
 "nbformat": 4,
 "nbformat_minor": 4
}
